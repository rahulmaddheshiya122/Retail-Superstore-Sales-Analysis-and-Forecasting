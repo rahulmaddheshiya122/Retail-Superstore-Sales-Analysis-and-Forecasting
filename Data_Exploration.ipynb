{
 "cells": [
  {
   "cell_type": "markdown",
   "id": "829689bd",
   "metadata": {},
   "source": [
    "# Data Exploration & Summarization\n",
    "\n",
    "Is notebook mein hum data ka exploration aur summary statistics karenge."
   ]
  },
  {
   "cell_type": "markdown",
   "id": "6ab5eb71",
   "metadata": {},
   "source": [
    "## Exploratory Analysis\n",
    "\n",
    "1. Total sales over time show an increasing trend, especially during festive months.\n",
    "2. The East region has the highest revenue, followed by the West region.\n",
    "3. Electronics category performs best in October and December.\n",
    "4. A sudden drop in sales is observed in April 2023."
   ]
  },
  {
   "cell_type": "code",
   "execution_count": null,
   "id": "778e7b68",
   "metadata": {},
   "outputs": [],
   "source": [
    "import pandas as pd\n",
    "import matplotlib.pyplot as plt\n",
    "import seaborn as sns\n",
    "\n",
    "# Load the data\n",
    "data = pd.read_csv('sample_data.csv')\n",
    "data['Order Date'] = pd.to_datetime(data['Order Date'])"
   ]
  },
  {
   "cell_type": "markdown",
   "id": "98965e36",
   "metadata": {},
   "source": [
    "## Summary Statistics"
   ]
  },
  {
   "cell_type": "code",
   "execution_count": null,
   "id": "83e0e39b",
   "metadata": {},
   "outputs": [],
   "source": [
    "# Average monthly sales\n",
    "avg_monthly_sales = data.groupby(data['Order Date'].dt.to_period('M'))['Sales'].sum().mean()\n",
    "print(\"Average Monthly Sales:\", round(avg_monthly_sales, 2))\n",
    "\n",
    "# Maximum units sold in a month\n",
    "max_units = data.groupby(data['Order Date'].dt.to_period('M'))['Units'].sum().max()\n",
    "print(\"Maximum Units Sold in a Month:\", max_units)\n",
    "\n",
    "# Correlation between price and units sold\n",
    "correlation = data['Price'].corr(data['Units'])\n",
    "print(\"Correlation between Price and Units Sold:\", round(correlation, 2))"
   ]
  },
  {
   "cell_type": "markdown",
   "id": "b2aa3b6e",
   "metadata": {},
   "source": [
    "## Line Chart - Total Sales Over Time"
   ]
  },
  {
   "cell_type": "code",
   "execution_count": null,
   "id": "53106169",
   "metadata": {},
   "outputs": [],
   "source": [
    "monthly_sales = data.groupby(data['Order Date'].dt.to_period('M'))['Sales'].sum()\n",
    "monthly_sales.index = monthly_sales.index.to_timestamp()\n",
    "\n",
    "plt.figure(figsize=(10,5))\n",
    "monthly_sales.plot(kind='line')\n",
    "plt.title('Total Sales Over Time')\n",
    "plt.xlabel('Month')\n",
    "plt.ylabel('Sales')\n",
    "plt.grid(True)\n",
    "plt.show()"
   ]
  },
  {
   "cell_type": "markdown",
   "id": "e72a9215",
   "metadata": {},
   "source": [
    "## Bar Chart - Revenue by Region"
   ]
  },
  {
   "cell_type": "code",
   "execution_count": null,
   "id": "a31a6fb1",
   "metadata": {},
   "outputs": [],
   "source": [
    "region_sales = data.groupby('Region')['Sales'].sum().sort_values(ascending=False)\n",
    "\n",
    "plt.figure(figsize=(8,5))\n",
    "region_sales.plot(kind='bar')\n",
    "plt.title('Revenue by Region')\n",
    "plt.xlabel('Region')\n",
    "plt.ylabel('Sales')\n",
    "plt.show()"
   ]
  },
  {
   "cell_type": "markdown",
   "id": "8e944e79",
   "metadata": {},
   "source": [
    "## Heatmap - Sales by Category and Month"
   ]
  },
  {
   "cell_type": "code",
   "execution_count": null,
   "id": "7daa6d52",
   "metadata": {},
   "outputs": [],
   "source": [
    "heatmap_data = data.pivot_table(values='Sales', index=data['Order Date'].dt.month, columns='Category', aggfunc='sum')\n",
    "\n",
    "plt.figure(figsize=(10,6))\n",
    "sns.heatmap(heatmap_data, annot=True, fmt=\".0f\", cmap='YlGnBu')\n",
    "plt.title('Sales by Category and Month')\n",
    "plt.xlabel('Product Category')\n",
    "plt.ylabel('Month')\n",
    "plt.show()"
   ]
  }
 ],
 "metadata": {},
 "nbformat": 4,
 "nbformat_minor": 5
}
