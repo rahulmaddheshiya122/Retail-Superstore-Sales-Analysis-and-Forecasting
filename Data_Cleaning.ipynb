📂 Data Cleaning Steps

1. Checked for Missing Values
  * Used code to identify missing data.
  * Filled or removed missing entries.

# Check for missing values
print(data.isnull().sum())

# Fill missing values in 'Sales' column with mean
data['Sales'] = data['Sales'].fillna(data['Sales'].mean())

# Drop rows where 'Region' is missing
data = data.dropna(subset=['Region'])
-----------------------------------------------------------------------

2. Removed Duplicate Rows
  * Ensured there are no repeated orders by checking order IDs.

# Remove duplicates based on 'Order ID'
data = data.drop_duplicates(subset=['Order ID'])


-----------------------------------------------------------------------

3. Converted Order Dates into Standard Format
  * Changed dates to datetime format for consistency.

# Convert 'Order Date' to datetime
data['Order Date'] = pd.to_datetime(data['Order Date'], format='%Y-%m-%d')

------------------------------------------------------------------------

4. Created New Columns
   * Added a new column to calculate total revenue for each order.

# Create 'Total_Revenue' as Sales * Units
data['Total_Revenue'] = data['Sales'] * data['Units']

-------------------------------------------------------------------------

5. Filtered Out Invalid Data Entries
  * Removed rows with zero or negative sales or units.

# Filter out invalid data
data = data[(data['Sales'] > 0) & (data['Units'] > 0)]


